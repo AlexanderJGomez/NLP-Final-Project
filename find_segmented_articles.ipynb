{
 "cells": [
  {
   "cell_type": "markdown",
   "metadata": {},
   "source": [
    "Each document comes in the format of:\n",
    "\n",
    "*article sentences and paragraphs separated by \\n\\n which we will refer to as the segments*\n",
    "and then\n",
    "\n",
    "@highlight\n",
    "\n",
    "This is Highlight1\n",
    "\n",
    "@highlight\n",
    "\n",
    "this is highlight2\n",
    "\n",
    "etc.\n",
    "\n",
    "\n",
    "So going through the article \"segments\" which are separated by \\n\\n,\n",
    "we are looking for articles that are correctly formatted.\n",
    "This means each segment must be a paragraph of 4 or more sentences, or a title/subtitle\n",
    "which we will ignore.  We consider a a title/subtitle any 1 sentence segment that does not end in a paragraph.  Otherwise, if we find a segment that does not satisfy either of the above rules, \n",
    "we will not consider the article.  \n",
    "\n",
    "\n"
   ]
  },
  {
   "cell_type": "code",
   "execution_count": 41,
   "metadata": {},
   "outputs": [
    {
     "data": {
      "text/plain": [
       "[]"
      ]
     },
     "execution_count": 41,
     "metadata": {},
     "output_type": "execute_result"
    }
   ],
   "source": [
    "import nltk.data\n",
    "import os\n",
    "\n",
    "tokenizer = nltk.data.load('tokenizers/punkt/english.pickle')\n",
    "\n",
    "correctly_formatted_articles = []\n",
    "for doc in os.listdir(\"../dailymail/stories\"):\n",
    "    with open(\"../dailymail/stories/\" + doc, \"r\") as file_obj:\n",
    "        file = file_obj.read()\n",
    "        article_with_highlights = file.split(\"@highlight\\n\\n\")\n",
    "        article = article_with_highlights[0].split(\"\\n\\n\")\n",
    "        highlights = article_with_highlights[1:]\n",
    "        valid_article = True\n",
    "        for segment in article:\n",
    "            tokenized_segment = tokenizer.tokenize(segment)\n",
    "            if len(tokenized_segment) > 3:\n",
    "                continue\n",
    "            #check if it is a title or subtitle\n",
    "            elif len(tokenized_segment) == 1 and tokenized_segment[0][-1] not in [\".\"]:\n",
    "                continue\n",
    "            else:\n",
    "                valid_sentence = False\n",
    "                break\n",
    "        if valid_sentence:\n",
    "            correctly_formatted_articles.append(doc)\n",
    "correctly_formatted_articles"
   ]
  },
  {
   "cell_type": "code",
   "execution_count": null,
   "metadata": {},
   "outputs": [],
   "source": []
  }
 ],
 "metadata": {
  "kernelspec": {
   "display_name": "Python 3",
   "language": "python",
   "name": "python3"
  },
  "language_info": {
   "codemirror_mode": {
    "name": "ipython",
    "version": 3
   },
   "file_extension": ".py",
   "mimetype": "text/x-python",
   "name": "python",
   "nbconvert_exporter": "python",
   "pygments_lexer": "ipython3",
   "version": "3.6.3"
  }
 },
 "nbformat": 4,
 "nbformat_minor": 2
}
