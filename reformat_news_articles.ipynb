{
 "cells": [
  {
   "cell_type": "code",
   "execution_count": 16,
   "metadata": {},
   "outputs": [],
   "source": [
    "import nltk.data\n",
    "\n",
    "tokenizer = nltk.data.load('tokenizers/punkt/english.pickle')\n",
    "\n",
    "# for news_article in [\"newsarticle2.txt\", \"newsarticle3.txt\", \"newsarticle4.txt\", \"newsarticle5.txt\", \"newsarticle6.txt\"]:\n",
    "#     with open(\"data/\" + news_article, \"r\") as file_obj:\n",
    "#         file_txt = file_obj.read().split(\"\\n\\n\")\n",
    "#         paragraphs = [tokenizer.tokenize(x) for x in file_txt]\n",
    "#         formatted_text = \"\\n\\n\".join(['\\n'.join(x) for x in paragraphs])\n",
    "#     with open(\"data/\" + news_article, \"w\") as file_obj:\n",
    "#         file_obj.write(formatted_text)"
   ]
  }
 ],
 "metadata": {
  "kernelspec": {
   "display_name": "Python 3",
   "language": "python",
   "name": "python3"
  },
  "language_info": {
   "codemirror_mode": {
    "name": "ipython",
    "version": 3
   },
   "file_extension": ".py",
   "mimetype": "text/x-python",
   "name": "python",
   "nbconvert_exporter": "python",
   "pygments_lexer": "ipython3",
   "version": "3.6.3"
  }
 },
 "nbformat": 4,
 "nbformat_minor": 2
}
