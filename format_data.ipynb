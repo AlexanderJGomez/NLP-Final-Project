{
 "cells": [
  {
   "cell_type": "code",
   "execution_count": 15,
   "metadata": {},
   "outputs": [],
   "source": [
    "import nltk.data\n",
    "import os\n",
    "\n",
    "tokenizer = nltk.data.load('tokenizers/punkt/english.pickle')\n",
    "PARAGRAPH_SIZE = 5\n",
    "\n",
    "for news_article in os.listdir(\"../cnn/stories\")[:10000]:\n",
    "    with open(\"../cnn/stories/\" + news_article, \"r\") as file_obj:\n",
    "        file = file_obj.read()\n",
    "        article_with_highlights = file.split(\"@highlight\\n\\n\")\n",
    "        article = article_with_highlights[0].split(\"\\n\\n\")\n",
    "        highlights_len = len(article_with_highlights) - 1\n",
    "        highlights = \"\\n\".join(list(map(lambda x: x.replace(\"\\n\\n\", \"\"), article_with_highlights[1:])))\n",
    "        sentences = []\n",
    "        for segment in article:\n",
    "            tokenized_segment = tokenizer.tokenize(segment)\n",
    "            #Skip titles and subtitles\n",
    "            if len(tokenized_segment) == 1 and tokenized_segment[0][-1] not in [\".\"]:\n",
    "                continue\n",
    "            else:\n",
    "                sentences.extend(tokenized_segment)\n",
    "        paragraphs = [sentences[i:i + PARAGRAPH_SIZE] for i in range(0, len(sentences), PARAGRAPH_SIZE)]\n",
    "        if len(paragraphs) > 3 and highlights_len > 0:\n",
    "            formatted_text = \"\\n\\n\".join(['\\n'.join(x) for x in paragraphs])\n",
    "            with open(\"data/\" + news_article + \".txt\", \"w\") as file_obj:\n",
    "                file_obj.write(formatted_text)\n",
    "            with open(\"reference/\" + news_article + \"_summary.txt\", \"w\") as file_obj:\n",
    "                file_obj.write(highlights)"
   ]
  }
 ],
 "metadata": {
  "kernelspec": {
   "display_name": "Python 3",
   "language": "python",
   "name": "python3"
  },
  "language_info": {
   "codemirror_mode": {
    "name": "ipython",
    "version": 3
   },
   "file_extension": ".py",
   "mimetype": "text/x-python",
   "name": "python",
   "nbconvert_exporter": "python",
   "pygments_lexer": "ipython3",
   "version": "3.6.3"
  }
 },
 "nbformat": 4,
 "nbformat_minor": 2
}
