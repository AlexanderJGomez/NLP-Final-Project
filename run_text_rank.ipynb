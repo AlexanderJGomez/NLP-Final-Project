{
 "cells": [
  {
   "cell_type": "raw",
   "metadata": {},
   "source": [
    "here we retrieve the textrank function from the textrank file"
   ]
  },
  {
   "cell_type": "markdown",
   "metadata": {},
   "source": [
    "## from textrank import textrank\n",
    "import os\n",
    "for news_article in os.listdir(\"data\"):\n",
    "    if \".txt\" in news_article:\n",
    "        print(news_article)\n",
    "        summary = textrank(\"data/\" + news_article, paragraphSize=4, type =\"baseline\")\n",
    "        file_name = news_article.split(\".txt\")[0]\n",
    "        with open(os.getcwd() + \"/system/\" + file_name + \"_syssum.txt\", \"w+\", encoding=\"utf8\") as file_obj:\n",
    "            file_obj.write(\"\\n\".join(summary))"
   ]
  },
  {
   "cell_type": "code",
   "execution_count": null,
   "metadata": {
    "collapsed": true
   },
   "outputs": [],
   "source": []
  },
  {
   "cell_type": "code",
   "execution_count": 13,
   "metadata": {},
   "outputs": [
    {
     "data": {
      "text/plain": [
       "7925"
      ]
     },
     "execution_count": 13,
     "metadata": {},
     "output_type": "execute_result"
    }
   ],
   "source": [
    "len(os.listdir(\"data\"))"
   ]
  }
 ],
 "metadata": {
  "kernelspec": {
   "display_name": "Python 3",
   "language": "python",
   "name": "python3"
  },
  "language_info": {
   "codemirror_mode": {
    "name": "ipython",
    "version": 3
   },
   "file_extension": ".py",
   "mimetype": "text/x-python",
   "name": "python",
   "nbconvert_exporter": "python",
   "pygments_lexer": "ipython3",
   "version": "3.6.4"
  }
 },
 "nbformat": 4,
 "nbformat_minor": 2
}
