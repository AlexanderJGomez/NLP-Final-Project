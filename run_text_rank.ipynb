{
 "cells": [
  {
   "cell_type": "markdown",
   "metadata": {},
   "source": [
    "Here we will import the baseline function from the text rank file"
   ]
  },
  {
   "cell_type": "code",
   "execution_count": 4,
   "metadata": {},
   "outputs": [],
   "source": [
    "from textrank import baseline\n",
    "for news_article in [\"newsarticle2.txt\", \"newsarticle3.txt\", \"newsarticle4.txt\", \"newsarticle5.txt\", \"newsarticle6.txt\"]:\n",
    "    summary = baseline(\"data/\" + news_article, segmentSeparator=\"\\n\\n\")\n",
    "    file_name = news_article.split(\".\")[0]\n",
    "    with open(\"summary/\" + file_name + \"_syssum.txt\", \"w\") as file_obj:\n",
    "        file_obj.write(\"\\n\".join(summary))\n"
   ]
  }
 ],
 "metadata": {
  "kernelspec": {
   "display_name": "Python 3",
   "language": "python",
   "name": "python3"
  },
  "language_info": {
   "codemirror_mode": {
    "name": "ipython",
    "version": 3
   },
   "file_extension": ".py",
   "mimetype": "text/x-python",
   "name": "python",
   "nbconvert_exporter": "python",
   "pygments_lexer": "ipython3",
   "version": "3.6.3"
  }
 },
 "nbformat": 4,
 "nbformat_minor": 2
}
